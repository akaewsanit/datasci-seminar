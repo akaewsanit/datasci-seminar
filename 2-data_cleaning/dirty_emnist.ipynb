{
 "cells": [
  {
   "cell_type": "code",
   "execution_count": null,
   "metadata": {},
   "outputs": [],
   "source": [
    "# Install and import packages\n",
    "\n",
    "# %conda install pandas numpy emnist matplotlib\n",
    "\n",
    "# Import all the things\n",
    "import pandas as pd\n",
    "import numpy as np\n",
    "import emnist\n",
    "import matplotlib.pyplot as plt"
   ]
  },
  {
   "cell_type": "code",
   "execution_count": null,
   "metadata": {},
   "outputs": [],
   "source": [
    "# Load the data, and reshape it\n",
    "\n",
    "size = 28\n",
    "\n",
    "# Extract the training data\n",
    "image, label = emnist.extract_training_samples('byclass')\n",
    "raw_train = pd.DataFrame( image.reshape(-1, size*size) )\n",
    "raw_train['label'] = label\n",
    "raw_train['split'] = 'train'\n",
    "\n",
    "# Extract the test data\n",
    "image, label = emnist.extract_test_samples('byclass')\n",
    "raw_test = pd.DataFrame( image.reshape(-1, size*size) )\n",
    "raw_test['label'] = label\n",
    "raw_test['split'] = 'test'"
   ]
  },
  {
   "cell_type": "code",
   "execution_count": 33,
   "metadata": {},
   "outputs": [
    {
     "data": {
      "text/plain": [
       "<matplotlib.image.AxesImage at 0x7fdd53899c30>"
      ]
     },
     "execution_count": 33,
     "metadata": {},
     "output_type": "execute_result"
    },
    {
     "data": {
      "image/png": "[encoded data removed]",
      "text/plain": [
       "<Figure size 640x480 with 1 Axes>"
      ]
     },
     "metadata": {},
     "output_type": "display_data"
    }
   ],
   "source": [
    "# We can get the image back from the dataframe by reshaping it\n",
    "# into a NumPy array (which is what the image was originally)\n",
    "image_np = np.array(df.iloc[:,0:784])\n",
    "image_np = np.array(image_np.reshape(-1, 28, 28))\n",
    "\n",
    "# And plot it with matplotlib's pyplot\n",
    "plt.imshow(image_np[0], cmap='gray')"
   ]
  },
  {
   "cell_type": "code",
   "execution_count": 32,
   "metadata": {},
   "outputs": [
    {
     "data": {
      "text/plain": [
       "(28, 28, 1)"
      ]
     },
     "execution_count": 32,
     "metadata": {},
     "output_type": "execute_result"
    }
   ],
   "source": [
    "image_"
   ]
  },
  {
   "cell_type": "code",
   "execution_count": null,
   "metadata": {},
   "outputs": [],
   "source": [
    "raw_test['image'] = image_np"
   ]
  },
  {
   "cell_type": "code",
   "execution_count": null,
   "metadata": {},
   "outputs": [],
   "source": [
    "import matplotlib.pyplot as plt\n",
    "sample = image[0]\n",
    "sample = sample.reshape(28,28)\n",
    "plt.imshow(sample, cmap='gray')"
   ]
  },
  {
   "cell_type": "code",
   "execution_count": null,
   "metadata": {},
   "outputs": [],
   "source": []
  }
 ],
 "metadata": {
  "kernelspec": {
   "display_name": "seminar",
   "language": "python",
   "name": "python3"
  },
  "language_info": {
   "codemirror_mode": {
    "name": "ipython",
    "version": 3
   },
   "file_extension": ".py",
   "mimetype": "text/x-python",
   "name": "python",
   "nbconvert_exporter": "python",
   "pygments_lexer": "ipython3",
   "version": "3.10.9"
  },
  "orig_nbformat": 4,
  "vscode": {
   "interpreter": {
    "hash": "5e515f099f0da6a2737b6685058153dc4c80cb25a1e9fe8c5e831073d214043c"
   }
  }
 },
 "nbformat": 4,
 "nbformat_minor": 2
}
