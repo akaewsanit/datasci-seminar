{
 "cells": [
  {
   "cell_type": "code",
   "execution_count": null,
   "metadata": {},
   "outputs": [],
   "source": [
    "# Install and import packages\n",
    "\n",
    "# %conda install pandas numpy emnist matplotlib\n",
    "\n",
    "# Import all the things\n",
    "import pandas as pd\n",
    "import numpy as np\n",
    "import emnist\n",
    "import matplotlib.pyplot as plt"
   ]
  },
  {
   "cell_type": "code",
   "execution_count": null,
   "metadata": {},
   "outputs": [],
   "source": [
    "# Load the data, and reshape it\n",
    "size = 28 # The size of the images\n",
    "\n",
    "# Extract the training split as images and labels\n",
    "image, label = emnist.extract_training_samples('byclass')\n",
    "\n",
    "# Add columns for each pixel value (28x28 = 784 columns)\n",
    "raw_train = pd.DataFrame( image.reshape(-1, size*size) )\n",
    "\n",
    "# Add a column showing which split the data is from\n",
    "raw_train['split'] = 'train'\n",
    "\n",
    "# Add a column showing the label\n",
    "raw_train['label'] = label\n",
    "\n",
    "# Add a column with the image data as a 28x28 array\n",
    "raw_train['image'] = list(image)\n",
    "\n",
    "\n",
    "# Repeat for the test split\n",
    "image, label = emnist.extract_test_samples('byclass')\n",
    "raw_test = pd.DataFrame( image.reshape(-1, size*size) )\n",
    "raw_test['label'] = label\n",
    "raw_test['split'] = 'test'\n",
    "raw_test['image'] = list(image)"
   ]
  },
  {
   "cell_type": "code",
   "execution_count": null,
   "metadata": {},
   "outputs": [],
   "source": []
  },
  {
   "cell_type": "code",
   "execution_count": null,
   "metadata": {},
   "outputs": [],
   "source": [
    "# We can get the image back from the dataframe by reshaping it\n",
    "# into a NumPy array (which is what the image was originally)\n",
    "\n",
    "# Creat a NumPy array from the columns of pixels\n",
    "image_np = np.array(raw_train.iloc[:,0:784])\n",
    "\n",
    "# Reshape it into a 28x28 image\n",
    "image_np = np.array(image_np.reshape(-1, 28, 28))\n",
    "\n",
    "# And plot the first one, image_np[0], with matplotlib's pyplot\n",
    "plt.imshow(image_np[0], cmap='gray')"
   ]
  },
  {
   "cell_type": "code",
   "execution_count": null,
   "metadata": {},
   "outputs": [],
   "source": [
    "# We can also get the image back from the 'image' column of the dataframe,\n",
    "# which is a list of NumPy arrays\n",
    "plt.imshow(raw_train['image'][0], cmap='gray')"
   ]
  },
  {
   "cell_type": "code",
   "execution_count": null,
   "metadata": {},
   "outputs": [],
   "source": [
    "# Now let's mess up the data a bit\n",
    "\n",
    "# Copy the splits into new dataframes to mess up\n",
    "dirty_train = raw_train.copy()\n",
    "dirty_test  = raw_test.copy()\n",
    "\n",
    "# Add a column for previous prediction score\n",
    "dirty_train['predict'] = np.random.rand(dirty_train.shape[0])\n",
    "dirty_test['predict']  = np.random.rand(dirty_test.shape[0])"
   ]
  },
  {
   "cell_type": "code",
   "execution_count": null,
   "metadata": {},
   "outputs": [],
   "source": []
  }
 ],
 "metadata": {
  "kernelspec": {
   "display_name": "seminar",
   "language": "python",
   "name": "python3"
  },
  "language_info": {
   "codemirror_mode": {
    "name": "ipython",
    "version": 3
   },
   "file_extension": ".py",
   "mimetype": "text/x-python",
   "name": "python",
   "nbconvert_exporter": "python",
   "pygments_lexer": "ipython3",
   "version": "3.10.9"
  },
  "orig_nbformat": 4,
  "vscode": {
   "interpreter": {
    "hash": "5e515f099f0da6a2737b6685058153dc4c80cb25a1e9fe8c5e831073d214043c"
   }
  }
 },
 "nbformat": 4,
 "nbformat_minor": 2
}
